{
 "cells": [
  {
   "cell_type": "code",
   "execution_count": 8,
   "metadata": {},
   "outputs": [
    {
     "name": "stdout",
     "output_type": "stream",
     "text": [
      "[[0.6557438524301997, 0], [2.5903667693977237, 1], [0.6480740698407862, 2], [3.6578682316343767, 3], [2.683281572999748, 4], [0.7071067811865478, 5], [3.6138621999185307, 6], [3.7509998667022106, 7], [3.2372828112477294, 8], [1.8248287590894656, 9], [0.670820393249937, 10], [3.3000000000000003, 11], [3.443835071544513, 12], [3.277193921634788, 13], [0.7211102550927979, 14], [3.5496478698597698, 15], [0.6708203932499366, 16], [2.925747767665559, 17], [3.7815340802378077, 18], [0.43588989435406783, 19], [0.9899494936611662, 20], [3.769615364994153, 21], [0.6480740698407861, 22], [0.8660254037844383, 23], [0.9486832980505138, 24], [0.8124038404635955, 25], [1.438749456993816, 26], [1.0535653752852738, 27], [3.3674916480965473, 28], [1.8601075237738276, 29], [0.9746794344808963, 30], [3.6537651812890224, 31], [3.823610858861032, 32], [1.1575836902790226, 33], [0.8602325267042631, 34], [3.602776706930364, 35], [1.2999999999999998, 36], [3.5791060336346563, 37], [3.4161381705077445, 38], [0.754983443527075, 39], [1.997498435543818, 40], [1.7349351572897476, 41], [0.5830951894845297, 42], [0.9433981132056598, 43], [2.4020824298928627, 44], [0.9746794344808962, 45], [3.845776904605882, 46], [4.177319714841085, 47], [0.741619848709566, 48], [1.8493242008906932, 49], [3.685105154537656, 50], [3.6318039594669758, 51], [3.9357337308308855, 52], [0.5099019513592785, 53], [1.6278820596099706, 54], [3.782856063875548, 55], [1.407124727947029, 56], [1.9157244060668017, 57], [3.8314488121336034, 58], [0.22360679774997896, 59], [0.5099019513592788, 60], [0.6164414002968978, 61], [1.0049875621120894, 62], [1.3490737563232043, 63], [3.551056180912941, 64], [1.4247806848775015, 65], [0.6480740698407859, 66], [1.0440306508910553, 67], [1.296148139681572, 68], [1.224744871391589, 69], [0.30000000000000027, 70], [3.8961519477556315, 71], [0.5291502622129183, 72], [0.6999999999999995, 73], [3.5623026261113755, 74], [0.8124038404635965, 75], [2.090454496036687, 76], [1.5556349186104048, 77], [3.5623026261113755, 78], [1.8973665961010275, 79], [1.8165902124584952, 80], [1.6186414056238647, 81], [3.602776706930364, 82], [1.6431676725154982, 83], [3.6565010597564442, 84], [0.9273618495495711, 85], [2.0346989949375804, 86], [1.1045361017187258, 87], [0.728010988928052, 88], [1.0954451150103324, 89], [0.6244997998398398, 90], [0.5196152422706639, 91], [0.9643650760992956, 92], [0.774596669241483, 93], [3.2939338184001206, 94], [0.7071067811865478, 95], [1.3490737563232036, 96], [3.844476557348217, 97], [0.7874007874011811, 98], [1.8138357147217057, 99]]\n"
     ]
    },
    {
     "ename": "ValueError",
     "evalue": "Found input variables with inconsistent numbers of samples: [50, 1]",
     "output_type": "error",
     "traceback": [
      "\u001b[1;31m---------------------------------------------------------------------------\u001b[0m",
      "\u001b[1;31mValueError\u001b[0m                                Traceback (most recent call last)",
      "\u001b[1;32m<ipython-input-8-42a2db8190bd>\u001b[0m in \u001b[0;36m<module>\u001b[1;34m()\u001b[0m\n\u001b[0;32m     64\u001b[0m \u001b[1;33m\u001b[0m\u001b[0m\n\u001b[0;32m     65\u001b[0m \u001b[1;31m# evaluating accuracy\u001b[0m\u001b[1;33m\u001b[0m\u001b[1;33m\u001b[0m\u001b[0m\n\u001b[1;32m---> 66\u001b[1;33m \u001b[0maccuracy\u001b[0m \u001b[1;33m=\u001b[0m \u001b[0maccuracy_score\u001b[0m\u001b[1;33m(\u001b[0m\u001b[0my_test\u001b[0m\u001b[1;33m,\u001b[0m \u001b[0mpredictions\u001b[0m\u001b[1;33m)\u001b[0m\u001b[1;33m\u001b[0m\u001b[0m\n\u001b[0m\u001b[0;32m     67\u001b[0m \u001b[0maccuracy\u001b[0m\u001b[1;33m*=\u001b[0m\u001b[1;36m100\u001b[0m\u001b[1;33m\u001b[0m\u001b[0m\n\u001b[0;32m     68\u001b[0m \u001b[0mprint\u001b[0m\u001b[1;33m(\u001b[0m\u001b[1;34m'The accuracy of our classifier is {0}'\u001b[0m\u001b[1;33m.\u001b[0m\u001b[0mformat\u001b[0m\u001b[1;33m(\u001b[0m\u001b[0maccuracy\u001b[0m\u001b[1;33m)\u001b[0m\u001b[1;33m)\u001b[0m\u001b[1;33m\u001b[0m\u001b[0m\n",
      "\u001b[1;32m~\\Anaconda3\\lib\\site-packages\\sklearn\\metrics\\classification.py\u001b[0m in \u001b[0;36maccuracy_score\u001b[1;34m(y_true, y_pred, normalize, sample_weight)\u001b[0m\n\u001b[0;32m    174\u001b[0m \u001b[1;33m\u001b[0m\u001b[0m\n\u001b[0;32m    175\u001b[0m     \u001b[1;31m# Compute accuracy for each possible representation\u001b[0m\u001b[1;33m\u001b[0m\u001b[1;33m\u001b[0m\u001b[0m\n\u001b[1;32m--> 176\u001b[1;33m     \u001b[0my_type\u001b[0m\u001b[1;33m,\u001b[0m \u001b[0my_true\u001b[0m\u001b[1;33m,\u001b[0m \u001b[0my_pred\u001b[0m \u001b[1;33m=\u001b[0m \u001b[0m_check_targets\u001b[0m\u001b[1;33m(\u001b[0m\u001b[0my_true\u001b[0m\u001b[1;33m,\u001b[0m \u001b[0my_pred\u001b[0m\u001b[1;33m)\u001b[0m\u001b[1;33m\u001b[0m\u001b[0m\n\u001b[0m\u001b[0;32m    177\u001b[0m     \u001b[1;32mif\u001b[0m \u001b[0my_type\u001b[0m\u001b[1;33m.\u001b[0m\u001b[0mstartswith\u001b[0m\u001b[1;33m(\u001b[0m\u001b[1;34m'multilabel'\u001b[0m\u001b[1;33m)\u001b[0m\u001b[1;33m:\u001b[0m\u001b[1;33m\u001b[0m\u001b[0m\n\u001b[0;32m    178\u001b[0m         \u001b[0mdiffering_labels\u001b[0m \u001b[1;33m=\u001b[0m \u001b[0mcount_nonzero\u001b[0m\u001b[1;33m(\u001b[0m\u001b[0my_true\u001b[0m \u001b[1;33m-\u001b[0m \u001b[0my_pred\u001b[0m\u001b[1;33m,\u001b[0m \u001b[0maxis\u001b[0m\u001b[1;33m=\u001b[0m\u001b[1;36m1\u001b[0m\u001b[1;33m)\u001b[0m\u001b[1;33m\u001b[0m\u001b[0m\n",
      "\u001b[1;32m~\\Anaconda3\\lib\\site-packages\\sklearn\\metrics\\classification.py\u001b[0m in \u001b[0;36m_check_targets\u001b[1;34m(y_true, y_pred)\u001b[0m\n\u001b[0;32m     69\u001b[0m     \u001b[0my_pred\u001b[0m \u001b[1;33m:\u001b[0m \u001b[0marray\u001b[0m \u001b[1;32mor\u001b[0m \u001b[0mindicator\u001b[0m \u001b[0mmatrix\u001b[0m\u001b[1;33m\u001b[0m\u001b[0m\n\u001b[0;32m     70\u001b[0m     \"\"\"\n\u001b[1;32m---> 71\u001b[1;33m     \u001b[0mcheck_consistent_length\u001b[0m\u001b[1;33m(\u001b[0m\u001b[0my_true\u001b[0m\u001b[1;33m,\u001b[0m \u001b[0my_pred\u001b[0m\u001b[1;33m)\u001b[0m\u001b[1;33m\u001b[0m\u001b[0m\n\u001b[0m\u001b[0;32m     72\u001b[0m     \u001b[0mtype_true\u001b[0m \u001b[1;33m=\u001b[0m \u001b[0mtype_of_target\u001b[0m\u001b[1;33m(\u001b[0m\u001b[0my_true\u001b[0m\u001b[1;33m)\u001b[0m\u001b[1;33m\u001b[0m\u001b[0m\n\u001b[0;32m     73\u001b[0m     \u001b[0mtype_pred\u001b[0m \u001b[1;33m=\u001b[0m \u001b[0mtype_of_target\u001b[0m\u001b[1;33m(\u001b[0m\u001b[0my_pred\u001b[0m\u001b[1;33m)\u001b[0m\u001b[1;33m\u001b[0m\u001b[0m\n",
      "\u001b[1;32m~\\Anaconda3\\lib\\site-packages\\sklearn\\utils\\validation.py\u001b[0m in \u001b[0;36mcheck_consistent_length\u001b[1;34m(*arrays)\u001b[0m\n\u001b[0;32m    202\u001b[0m     \u001b[1;32mif\u001b[0m \u001b[0mlen\u001b[0m\u001b[1;33m(\u001b[0m\u001b[0muniques\u001b[0m\u001b[1;33m)\u001b[0m \u001b[1;33m>\u001b[0m \u001b[1;36m1\u001b[0m\u001b[1;33m:\u001b[0m\u001b[1;33m\u001b[0m\u001b[0m\n\u001b[0;32m    203\u001b[0m         raise ValueError(\"Found input variables with inconsistent numbers of\"\n\u001b[1;32m--> 204\u001b[1;33m                          \" samples: %r\" % [int(l) for l in lengths])\n\u001b[0m\u001b[0;32m    205\u001b[0m \u001b[1;33m\u001b[0m\u001b[0m\n\u001b[0;32m    206\u001b[0m \u001b[1;33m\u001b[0m\u001b[0m\n",
      "\u001b[1;31mValueError\u001b[0m: Found input variables with inconsistent numbers of samples: [50, 1]"
     ]
    }
   ],
   "source": [
    "import numpy as np\n",
    "from sklearn.cross_validation import train_test_split\n",
    "import pandas as pd\n",
    "from sklearn.metrics import accuracy_score\n",
    "from collections import Counter\n",
    "\n",
    "def train(X_train, y_train):\n",
    "    #Do Nothing\n",
    "    return\n",
    "\n",
    "\n",
    "def predict(X_train, y_train, x_test, k):\n",
    "    # create list for distances and targets\n",
    "    distances = []\n",
    "    targets = []\n",
    "\n",
    "    for i in range(len(X_train)):\n",
    "        # first we compute the euclidean distance\n",
    "        distance = np.sqrt(np.sum(np.square(x_test - X_train[i, :])))\n",
    "        # add it to list of distances\n",
    "        distances.append([distance, i])\n",
    "    \n",
    "    print (distances)\n",
    "    # sort the list\n",
    "    distances = sorted(distances)\n",
    "\n",
    "    # make a list of the k neighbors' targets\n",
    "    for i in range(k):\n",
    "        index = distances[i][1]\n",
    "        targets.append(y_train[index])\n",
    "\n",
    "    # return most common target\n",
    "    return Counter(targets).most_common(1)[0][0]\n",
    "\n",
    "\n",
    "def kNearestNeighbor(X_train, y_train, X_test, predictions, k):\n",
    "    # train on the input data\n",
    "    train(X_train, y_train)\n",
    "\n",
    "    # loop over all observations\n",
    "    for i in range(len(X_test)):\n",
    "        predictions.append(predict(X_train, y_train, X_test[i, :], k))\n",
    "\n",
    "# making our predictions \n",
    "predictions = []\n",
    "\n",
    "#Defining the Iris Dataset - column names for the Pandas table\n",
    "names =  ['sepal_length','sepal_width','petal_length','petal_width','class']\n",
    "\n",
    "#Loading Training data\n",
    "df = pd.read_csv(\"IrisDataSet.txt\",header=None,names=names)\n",
    "\n",
    "# create design matrix X and target vector y\n",
    "X = np.array(df.iloc[:, 0:4])  # end index is exclusive\n",
    "y = np.array(df['class'])  # another way of indexing a pandas df\n",
    "\n",
    "# split into train and test\n",
    "X_train, X_test, y_train, y_test = train_test_split(X, y, test_size=0.33, random_state=42)\n",
    "\n",
    "kNearestNeighbor(X_train, y_train, X_test, predictions, 7)\n",
    "\n",
    "# transform the list into an array\n",
    "predictions = np.asarray(predictions)\n",
    "\n",
    "# evaluating accuracy\n",
    "accuracy = accuracy_score(y_test, predictions)\n",
    "accuracy*=100\n",
    "print('The accuracy of our classifier is {0}'.format(accuracy))"
   ]
  },
  {
   "cell_type": "code",
   "execution_count": null,
   "metadata": {},
   "outputs": [],
   "source": []
  }
 ],
 "metadata": {
  "kernelspec": {
   "display_name": "Python 3",
   "language": "python",
   "name": "python3"
  },
  "language_info": {
   "codemirror_mode": {
    "name": "ipython",
    "version": 3
   },
   "file_extension": ".py",
   "mimetype": "text/x-python",
   "name": "python",
   "nbconvert_exporter": "python",
   "pygments_lexer": "ipython3",
   "version": "3.6.4"
  }
 },
 "nbformat": 4,
 "nbformat_minor": 2
}
