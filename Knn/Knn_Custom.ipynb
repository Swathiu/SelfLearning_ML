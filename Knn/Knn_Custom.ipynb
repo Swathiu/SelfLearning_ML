{
 "cells": [
  {
   "cell_type": "code",
   "execution_count": 10,
   "metadata": {},
   "outputs": [
    {
     "name": "stdout",
     "output_type": "stream",
     "text": [
      "The accuracy of our classifier is 98.0\n"
     ]
    }
   ],
   "source": [
    "import numpy as np\n",
    "from sklearn.cross_validation import train_test_split\n",
    "import pandas as pd\n",
    "from sklearn.metrics import accuracy_score\n",
    "from collections import Counter\n",
    "\n",
    "def train(X_train, y_train):\n",
    "    #Do Nothing\n",
    "    return\n",
    "\n",
    "\n",
    "def predict(X_train, y_train, x_test, k):\n",
    "    # create list for distances and targets\n",
    "    distances = []\n",
    "    targets = []\n",
    "\n",
    "    for i in range(len(X_train)):\n",
    "        # first we compute the euclidean distance\n",
    "        distance = np.sqrt(np.sum(np.square(x_test - X_train[i, :])))\n",
    "        # add it to list of distances\n",
    "        distances.append([distance, i])\n",
    "    \n",
    "     # sort the list\n",
    "    distances = sorted(distances)\n",
    "\n",
    "    # make a list of the k neighbors' targets\n",
    "    for i in range(k):\n",
    "        index = distances[i][1]\n",
    "        targets.append(y_train[index])\n",
    "\n",
    "    # return most common target\n",
    "    return Counter(targets).most_common(1)[0][0]\n",
    "\n",
    "\n",
    "def kNearestNeighbor(X_train, y_train, X_test, predictions, k):\n",
    "    # train on the input data\n",
    "    train(X_train, y_train)\n",
    "\n",
    "    # loop over all observations\n",
    "    for i in range(len(X_test)):\n",
    "        predictions.append(predict(X_train, y_train, X_test[i, :], k))\n",
    "\n",
    "# making our predictions \n",
    "predictions = []\n",
    "\n",
    "#Defining the Iris Dataset - column names for the Pandas table\n",
    "names =  ['sepal_length','sepal_width','petal_length','petal_width','class']\n",
    "\n",
    "#Loading Training data\n",
    "df = pd.read_csv(\"IrisDataSet.txt\",header=None,names=names)\n",
    "\n",
    "# create design matrix X and target vector y\n",
    "X = np.array(df.iloc[:, 0:4])  # end index is exclusive\n",
    "y = np.array(df['class'])  # another way of indexing a pandas df\n",
    "\n",
    "# split into train and test\n",
    "X_train, X_test, y_train, y_test = train_test_split(X, y, test_size=0.33, random_state=42)\n",
    "\n",
    "kNearestNeighbor(X_train, y_train, X_test, predictions, 7)\n",
    "\n",
    "# transform the list into an array\n",
    "predictions = np.asarray(predictions)\n",
    "\n",
    "# evaluating accuracy\n",
    "accuracy = accuracy_score(y_test, predictions)\n",
    "accuracy*=100\n",
    "print('The accuracy of our classifier is {0}'.format(accuracy))"
   ]
  },
  {
   "cell_type": "code",
   "execution_count": null,
   "metadata": {},
   "outputs": [],
   "source": []
  }
 ],
 "metadata": {
  "kernelspec": {
   "display_name": "Python 3",
   "language": "python",
   "name": "python3"
  },
  "language_info": {
   "codemirror_mode": {
    "name": "ipython",
    "version": 3
   },
   "file_extension": ".py",
   "mimetype": "text/x-python",
   "name": "python",
   "nbconvert_exporter": "python",
   "pygments_lexer": "ipython3",
   "version": "3.6.4"
  }
 },
 "nbformat": 4,
 "nbformat_minor": 2
}
